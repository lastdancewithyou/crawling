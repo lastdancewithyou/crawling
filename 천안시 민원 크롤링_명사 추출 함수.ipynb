{
 "cells": [
  {
   "cell_type": "code",
   "execution_count": 11,
   "id": "cfd8c214",
   "metadata": {
    "ExecuteTime": {
     "end_time": "2023-08-03T12:44:24.673490Z",
     "start_time": "2023-08-03T12:44:24.670449Z"
    }
   },
   "outputs": [],
   "source": [
    "import pandas as pd\n",
    "from konlpy.tag import Okt"
   ]
  },
  {
   "cell_type": "code",
   "execution_count": 7,
   "id": "ccd27c0f",
   "metadata": {
    "ExecuteTime": {
     "end_time": "2023-08-03T12:44:01.823886Z",
     "start_time": "2023-08-03T12:44:01.813851Z"
    }
   },
   "outputs": [],
   "source": [
    "claim_data = pd.read_csv('/Users/kanovatio/Desktop/Cheonan_claimdata.csv',encoding = 'cp949')"
   ]
  },
  {
   "cell_type": "code",
   "execution_count": 8,
   "id": "38ba1520",
   "metadata": {
    "ExecuteTime": {
     "end_time": "2023-08-03T12:44:03.227624Z",
     "start_time": "2023-08-03T12:44:03.218546Z"
    }
   },
   "outputs": [
    {
     "data": {
      "text/html": [
       "<div>\n",
       "<style scoped>\n",
       "    .dataframe tbody tr th:only-of-type {\n",
       "        vertical-align: middle;\n",
       "    }\n",
       "\n",
       "    .dataframe tbody tr th {\n",
       "        vertical-align: top;\n",
       "    }\n",
       "\n",
       "    .dataframe thead th {\n",
       "        text-align: right;\n",
       "    }\n",
       "</style>\n",
       "<table border=\"1\" class=\"dataframe\">\n",
       "  <thead>\n",
       "    <tr style=\"text-align: right;\">\n",
       "      <th></th>\n",
       "      <th>Unnamed: 0</th>\n",
       "      <th>민원 내용</th>\n",
       "    </tr>\n",
       "  </thead>\n",
       "  <tbody>\n",
       "    <tr>\n",
       "      <th>0</th>\n",
       "      <td>0</td>\n",
       "      <td>안전신문고 주정차 관련 문제 해결 부탁드립니다                     ...</td>\n",
       "    </tr>\n",
       "    <tr>\n",
       "      <th>1</th>\n",
       "      <td>1</td>\n",
       "      <td>성성물빛호수공원에 발전을 바라며</td>\n",
       "    </tr>\n",
       "    <tr>\n",
       "      <th>2</th>\n",
       "      <td>2</td>\n",
       "      <td>신방동 체육시설</td>\n",
       "    </tr>\n",
       "    <tr>\n",
       "      <th>3</th>\n",
       "      <td>3</td>\n",
       "      <td>시내버스</td>\n",
       "    </tr>\n",
       "    <tr>\n",
       "      <th>4</th>\n",
       "      <td>4</td>\n",
       "      <td>전기차보조금</td>\n",
       "    </tr>\n",
       "  </tbody>\n",
       "</table>\n",
       "</div>"
      ],
      "text/plain": [
       "   Unnamed: 0                                              민원 내용\n",
       "0           0  안전신문고 주정차 관련 문제 해결 부탁드립니다                     ...\n",
       "1           1      성성물빛호수공원에 발전을 바라며                            \n",
       "2           2               신방동 체육시설                            \n",
       "3           3                   시내버스                            \n",
       "4           4                 전기차보조금                            "
      ]
     },
     "execution_count": 8,
     "metadata": {},
     "output_type": "execute_result"
    }
   ],
   "source": [
    "claim_data.head()"
   ]
  },
  {
   "cell_type": "code",
   "execution_count": 13,
   "id": "56344cf9",
   "metadata": {
    "ExecuteTime": {
     "end_time": "2023-08-03T12:44:47.227037Z",
     "start_time": "2023-08-03T12:44:47.223813Z"
    }
   },
   "outputs": [],
   "source": [
    "# 명사 추출 함수 정의\n",
    "def extract_nouns(sentence):\n",
    "    nouns = okt.nouns(sentence)\n",
    "    return nouns"
   ]
  },
  {
   "cell_type": "code",
   "execution_count": 14,
   "id": "826dc82a",
   "metadata": {
    "ExecuteTime": {
     "end_time": "2023-08-03T12:45:35.923153Z",
     "start_time": "2023-08-03T12:45:30.826997Z"
    }
   },
   "outputs": [
    {
     "data": {
      "text/html": [
       "<div>\n",
       "<style scoped>\n",
       "    .dataframe tbody tr th:only-of-type {\n",
       "        vertical-align: middle;\n",
       "    }\n",
       "\n",
       "    .dataframe tbody tr th {\n",
       "        vertical-align: top;\n",
       "    }\n",
       "\n",
       "    .dataframe thead th {\n",
       "        text-align: right;\n",
       "    }\n",
       "</style>\n",
       "<table border=\"1\" class=\"dataframe\">\n",
       "  <thead>\n",
       "    <tr style=\"text-align: right;\">\n",
       "      <th></th>\n",
       "      <th>Unnamed: 0</th>\n",
       "      <th>민원 내용</th>\n",
       "      <th>명사</th>\n",
       "    </tr>\n",
       "  </thead>\n",
       "  <tbody>\n",
       "    <tr>\n",
       "      <th>0</th>\n",
       "      <td>0</td>\n",
       "      <td>안전신문고 주정차 관련 문제 해결 부탁드립니다                     ...</td>\n",
       "      <td>[안전, 신문고, 정차, 관련, 문제, 해결]</td>\n",
       "    </tr>\n",
       "    <tr>\n",
       "      <th>1</th>\n",
       "      <td>1</td>\n",
       "      <td>성성물빛호수공원에 발전을 바라며</td>\n",
       "      <td>[물빛, 호수, 공원, 발전]</td>\n",
       "    </tr>\n",
       "    <tr>\n",
       "      <th>2</th>\n",
       "      <td>2</td>\n",
       "      <td>신방동 체육시설</td>\n",
       "      <td>[신방동, 체육, 시설]</td>\n",
       "    </tr>\n",
       "    <tr>\n",
       "      <th>3</th>\n",
       "      <td>3</td>\n",
       "      <td>시내버스</td>\n",
       "      <td>[시내버스]</td>\n",
       "    </tr>\n",
       "    <tr>\n",
       "      <th>4</th>\n",
       "      <td>4</td>\n",
       "      <td>전기차보조금</td>\n",
       "      <td>[전기차, 보조금]</td>\n",
       "    </tr>\n",
       "    <tr>\n",
       "      <th>...</th>\n",
       "      <td>...</td>\n",
       "      <td>...</td>\n",
       "      <td>...</td>\n",
       "    </tr>\n",
       "    <tr>\n",
       "      <th>1833</th>\n",
       "      <td>1833</td>\n",
       "      <td>전기차 수요성이 높은 천안의 위치 보조금 지원 확대 요청드립니다           ...</td>\n",
       "      <td>[전기차, 수요, 천안, 위치, 보조금, 지원, 확대, 요청]</td>\n",
       "    </tr>\n",
       "    <tr>\n",
       "      <th>1834</th>\n",
       "      <td>1834</td>\n",
       "      <td>안녕하세요 담당자님</td>\n",
       "      <td>[담당자]</td>\n",
       "    </tr>\n",
       "    <tr>\n",
       "      <th>1835</th>\n",
       "      <td>1835</td>\n",
       "      <td>돈워리</td>\n",
       "      <td>[돈워리]</td>\n",
       "    </tr>\n",
       "    <tr>\n",
       "      <th>1836</th>\n",
       "      <td>1836</td>\n",
       "      <td>부친 집을 지나가는 도로의 보상처리에 대한 분발을 요청드리고자 시장님께 부탁드립니다...</td>\n",
       "      <td>[부친, 집, 도로, 보상, 처리, 대한, 분발, 요청, 시장님]</td>\n",
       "    </tr>\n",
       "    <tr>\n",
       "      <th>1837</th>\n",
       "      <td>1837</td>\n",
       "      <td>한화 포레나 천안노태 2단지 소음 고충</td>\n",
       "      <td>[한화, 포레, 천안, 노태, 단지, 소음, 고충]</td>\n",
       "    </tr>\n",
       "  </tbody>\n",
       "</table>\n",
       "<p>1838 rows × 3 columns</p>\n",
       "</div>"
      ],
      "text/plain": [
       "      Unnamed: 0                                              민원 내용  \\\n",
       "0              0  안전신문고 주정차 관련 문제 해결 부탁드립니다                     ...   \n",
       "1              1      성성물빛호수공원에 발전을 바라며                               \n",
       "2              2               신방동 체육시설                               \n",
       "3              3                   시내버스                               \n",
       "4              4                 전기차보조금                               \n",
       "...          ...                                                ...   \n",
       "1833        1833  전기차 수요성이 높은 천안의 위치 보조금 지원 확대 요청드립니다           ...   \n",
       "1834        1834             안녕하세요 담당자님                               \n",
       "1835        1835                    돈워리                               \n",
       "1836        1836  부친 집을 지나가는 도로의 보상처리에 대한 분발을 요청드리고자 시장님께 부탁드립니다...   \n",
       "1837        1837  한화 포레나 천안노태 2단지 소음 고충                               \n",
       "\n",
       "                                        명사  \n",
       "0                [안전, 신문고, 정차, 관련, 문제, 해결]  \n",
       "1                         [물빛, 호수, 공원, 발전]  \n",
       "2                            [신방동, 체육, 시설]  \n",
       "3                                   [시내버스]  \n",
       "4                               [전기차, 보조금]  \n",
       "...                                    ...  \n",
       "1833    [전기차, 수요, 천안, 위치, 보조금, 지원, 확대, 요청]  \n",
       "1834                                 [담당자]  \n",
       "1835                                 [돈워리]  \n",
       "1836  [부친, 집, 도로, 보상, 처리, 대한, 분발, 요청, 시장님]  \n",
       "1837          [한화, 포레, 천안, 노태, 단지, 소음, 고충]  \n",
       "\n",
       "[1838 rows x 3 columns]"
      ]
     },
     "execution_count": 14,
     "metadata": {},
     "output_type": "execute_result"
    }
   ],
   "source": [
    "# KoNLPy 형태소 분석기 초기화\n",
    "okt = Okt()\n",
    "\n",
    "# 데이터프레임에 명사 열 추가\n",
    "claim_data['명사'] = claim_data['민원 내용'].apply(extract_nouns)\n",
    "\n",
    "claim_data"
   ]
  },
  {
   "cell_type": "code",
   "execution_count": 15,
   "id": "ca386feb",
   "metadata": {
    "ExecuteTime": {
     "end_time": "2023-08-03T12:47:54.600437Z",
     "start_time": "2023-08-03T12:47:54.579845Z"
    }
   },
   "outputs": [],
   "source": [
    "# 데이터 저장\n",
    "claim_data.to_csv('0806_minwon_data.csv', index = False, encoding='cp949')"
   ]
  }
 ],
 "metadata": {
  "kernelspec": {
   "display_name": "Python 3 (ipykernel)",
   "language": "python",
   "name": "python3"
  },
  "language_info": {
   "codemirror_mode": {
    "name": "ipython",
    "version": 3
   },
   "file_extension": ".py",
   "mimetype": "text/x-python",
   "name": "python",
   "nbconvert_exporter": "python",
   "pygments_lexer": "ipython3",
   "version": "3.8.17"
  },
  "toc": {
   "base_numbering": 1,
   "nav_menu": {},
   "number_sections": true,
   "sideBar": true,
   "skip_h1_title": false,
   "title_cell": "Table of Contents",
   "title_sidebar": "Contents",
   "toc_cell": false,
   "toc_position": {},
   "toc_section_display": true,
   "toc_window_display": true
  }
 },
 "nbformat": 4,
 "nbformat_minor": 5
}
