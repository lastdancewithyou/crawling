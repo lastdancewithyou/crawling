{
 "cells": [
  {
   "cell_type": "code",
   "execution_count": 1,
   "id": "968a54e7",
   "metadata": {},
   "outputs": [],
   "source": [
    "#라이브러리\n",
    "from bs4 import BeautifulSoup\n",
    "import requests as req\n",
    "import pandas as pd\n",
    "from datetime import datetime"
   ]
  },
  {
   "cell_type": "code",
   "execution_count": 2,
   "id": "df864741",
   "metadata": {},
   "outputs": [],
   "source": [
    "url = \"https://finance.naver.com/marketindex/\"\n",
    "res = req.get(url)\n",
    "soup = BeautifulSoup(res.text, \"html.parser\")"
   ]
  },
  {
   "cell_type": "markdown",
   "id": "23eedd14",
   "metadata": {},
   "source": [
    "# 환율, 시세 값 가져오기"
   ]
  },
  {
   "cell_type": "code",
   "execution_count": 3,
   "id": "e15e0257",
   "metadata": {},
   "outputs": [
    {
     "name": "stdout",
     "output_type": "stream",
     "text": [
      "1,289.00\n",
      "990.05\n",
      "1,396.24\n",
      "188.43\n",
      "131.2000\n",
      "1.0891\n",
      "1.2314\n",
      "102.2000\n",
      "69.96\n",
      "1594.51\n",
      "1995.9\n",
      "82534.58\n",
      "['1,289.00', '990.05', '1,396.24', '188.43', '131.2000', '1.0891', '1.2314', '102.2000', '69.96', '1594.51', '1995.9', '82534.58']\n"
     ]
    }
   ],
   "source": [
    "currency = soup.select(\"div.head_info > span.value\")\n",
    "currency_list = []\n",
    "for price in currency:\n",
    "    price_currency = price.string #string->값만가져오기\n",
    "    currency_list.append(price_currency)\n",
    "    print(price_currency) \n",
    "print(currency_list)"
   ]
  },
  {
   "cell_type": "code",
   "execution_count": 4,
   "id": "b6e92c86",
   "metadata": {},
   "outputs": [
    {
     "name": "stdout",
     "output_type": "stream",
     "text": [
      "12\n"
     ]
    }
   ],
   "source": [
    "print(len(currency_list))"
   ]
  },
  {
   "cell_type": "markdown",
   "id": "5fdd77bc",
   "metadata": {},
   "source": [
    "# 각 값의 이름 가져오기"
   ]
  },
  {
   "cell_type": "markdown",
   "id": "f92551c9",
   "metadata": {},
   "source": [
    "## 환전 고시 환율"
   ]
  },
  {
   "cell_type": "code",
   "execution_count": 5,
   "id": "d99803e6",
   "metadata": {},
   "outputs": [],
   "source": [
    "# 환전 고시 환율 상위태그\n",
    "data1 = soup.find('div', {'class','data'})"
   ]
  },
  {
   "cell_type": "code",
   "execution_count": 6,
   "id": "80988377",
   "metadata": {
    "scrolled": true
   },
   "outputs": [
    {
     "name": "stdout",
     "output_type": "stream",
     "text": [
      "미국 USD\n",
      "일본 JPY(100엔)\n",
      "유럽연합 EUR\n",
      "중국 CNY\n",
      "['미국 USD', '일본 JPY(100엔)', '유럽연합 EUR', '중국 CNY']\n"
     ]
    }
   ],
   "source": [
    "# 환전 고시 환율 이름\n",
    "data1_names = data1.find_all('h3',{'class':'h_lst'})\n",
    "name_list = [] #불러올 이름 값 추가할 빈 리스트 생성\n",
    "for data1_name in data1_names:\n",
    "    data1_list = data1_name.text.strip()\n",
    "    name_list.append(data1_list)\n",
    "    print(data1_list)\n",
    "print(name_list)"
   ]
  },
  {
   "cell_type": "markdown",
   "id": "203ec559",
   "metadata": {},
   "source": [
    "## 국제 시장 환율"
   ]
  },
  {
   "cell_type": "code",
   "execution_count": 7,
   "id": "f142b04e",
   "metadata": {},
   "outputs": [],
   "source": [
    "# 국제 시장 환율 상위태그\n",
    "data2 = soup.find('div', {'class','market2'})"
   ]
  },
  {
   "cell_type": "code",
   "execution_count": 8,
   "id": "3b49ea30",
   "metadata": {},
   "outputs": [
    {
     "name": "stdout",
     "output_type": "stream",
     "text": [
      "달러/일본 엔\n",
      "유로/달러\n",
      "영국 파운드/달러\n",
      "달러인덱스\n",
      "['미국 USD', '일본 JPY(100엔)', '유럽연합 EUR', '중국 CNY', '달러/일본 엔', '유로/달러', '영국 파운드/달러', '달러인덱스']\n"
     ]
    }
   ],
   "source": [
    "# 국제 시장 환율 이름\n",
    "data2_names = data2.find_all('h3',{'class':'h_lst'})\n",
    "\n",
    "for data2_name in data2_names:\n",
    "    data2_list = data2_name.text.strip()\n",
    "    name_list.append(data2_list)\n",
    "    print(data2_list)\n",
    "print(name_list)"
   ]
  },
  {
   "cell_type": "markdown",
   "id": "54f8d19b",
   "metadata": {},
   "source": [
    "## 유가 금시세"
   ]
  },
  {
   "cell_type": "code",
   "execution_count": 9,
   "id": "ab35330d",
   "metadata": {},
   "outputs": [],
   "source": [
    "# 유가 금시세 상위태그\n",
    "data3 = soup.find('div', {'class','market3'})"
   ]
  },
  {
   "cell_type": "code",
   "execution_count": 10,
   "id": "d6110ccd",
   "metadata": {},
   "outputs": [
    {
     "name": "stdout",
     "output_type": "stream",
     "text": [
      "WTI\n",
      "휘발유\n",
      "국제 금\n",
      "국내 금\n",
      "['미국 USD', '일본 JPY(100엔)', '유럽연합 EUR', '중국 CNY', '달러/일본 엔', '유로/달러', '영국 파운드/달러', '달러인덱스', 'WTI', '휘발유', '국제 금', '국내 금']\n"
     ]
    }
   ],
   "source": [
    "data3_names = data3.find_all('h3',{'class':'h_lst'})\n",
    "\n",
    "for data3_name in data3_names:\n",
    "    data3_list = data3_name.text.strip()\n",
    "    name_list.append(data3_list)\n",
    "    print(data3_list)\n",
    "print(name_list)"
   ]
  },
  {
   "cell_type": "code",
   "execution_count": 11,
   "id": "e03ee7ae",
   "metadata": {
    "scrolled": true
   },
   "outputs": [
    {
     "name": "stdout",
     "output_type": "stream",
     "text": [
      "12\n"
     ]
    }
   ],
   "source": [
    "print(len(name_list))"
   ]
  },
  {
   "cell_type": "markdown",
   "id": "73d4e522",
   "metadata": {},
   "source": [
    "## 데이터 프레임으로 변환"
   ]
  },
  {
   "cell_type": "code",
   "execution_count": 12,
   "id": "83b51403",
   "metadata": {
    "scrolled": false
   },
   "outputs": [
    {
     "name": "stdout",
     "output_type": "stream",
     "text": [
      "['미국 USD', '일본 JPY(100엔)', '유럽연합 EUR', '중국 CNY', '달러/일본 엔', '유로/달러', '영국 파운드/달러', '달러인덱스', 'WTI', '휘발유', '국제 금', '국내 금']\n",
      "['1,289.00', '990.05', '1,396.24', '188.43', '131.2000', '1.0891', '1.2314', '102.2000', '69.96', '1594.51', '1995.9', '82534.58']\n"
     ]
    }
   ],
   "source": [
    "print(name_list)\n",
    "print(currency_list)"
   ]
  },
  {
   "cell_type": "code",
   "execution_count": 14,
   "id": "6fe99f16",
   "metadata": {},
   "outputs": [
    {
     "name": "stdout",
     "output_type": "stream",
     "text": [
      "20230324\n"
     ]
    }
   ],
   "source": [
    "#날짜 가져오기\n",
    "today = datetime.today().strftime(\"%Y%m%d\")\n",
    "print(today)"
   ]
  },
  {
   "cell_type": "code",
   "execution_count": 15,
   "id": "acfb909b",
   "metadata": {
    "scrolled": true
   },
   "outputs": [
    {
     "name": "stderr",
     "output_type": "stream",
     "text": [
      "C:\\Users\\rijin\\AppData\\Local\\Temp\\ipykernel_22740\\4039618888.py:1: FutureWarning: this method is deprecated in favour of `Styler.hide(axis='index')`\n",
      "  pd.DataFrame({today : name_list, 'exchange, market price':currency_list}).style.hide_index()\n"
     ]
    },
    {
     "data": {
      "text/html": [
       "<style type=\"text/css\">\n",
       "</style>\n",
       "<table id=\"T_f6e33\">\n",
       "  <thead>\n",
       "    <tr>\n",
       "      <th id=\"T_f6e33_level0_col0\" class=\"col_heading level0 col0\" >20230324</th>\n",
       "      <th id=\"T_f6e33_level0_col1\" class=\"col_heading level0 col1\" >exchange, market price</th>\n",
       "    </tr>\n",
       "  </thead>\n",
       "  <tbody>\n",
       "    <tr>\n",
       "      <td id=\"T_f6e33_row0_col0\" class=\"data row0 col0\" >미국 USD</td>\n",
       "      <td id=\"T_f6e33_row0_col1\" class=\"data row0 col1\" >1,289.00</td>\n",
       "    </tr>\n",
       "    <tr>\n",
       "      <td id=\"T_f6e33_row1_col0\" class=\"data row1 col0\" >일본 JPY(100엔)</td>\n",
       "      <td id=\"T_f6e33_row1_col1\" class=\"data row1 col1\" >990.05</td>\n",
       "    </tr>\n",
       "    <tr>\n",
       "      <td id=\"T_f6e33_row2_col0\" class=\"data row2 col0\" >유럽연합 EUR</td>\n",
       "      <td id=\"T_f6e33_row2_col1\" class=\"data row2 col1\" >1,396.24</td>\n",
       "    </tr>\n",
       "    <tr>\n",
       "      <td id=\"T_f6e33_row3_col0\" class=\"data row3 col0\" >중국 CNY</td>\n",
       "      <td id=\"T_f6e33_row3_col1\" class=\"data row3 col1\" >188.43</td>\n",
       "    </tr>\n",
       "    <tr>\n",
       "      <td id=\"T_f6e33_row4_col0\" class=\"data row4 col0\" >달러/일본 엔</td>\n",
       "      <td id=\"T_f6e33_row4_col1\" class=\"data row4 col1\" >131.2000</td>\n",
       "    </tr>\n",
       "    <tr>\n",
       "      <td id=\"T_f6e33_row5_col0\" class=\"data row5 col0\" >유로/달러</td>\n",
       "      <td id=\"T_f6e33_row5_col1\" class=\"data row5 col1\" >1.0891</td>\n",
       "    </tr>\n",
       "    <tr>\n",
       "      <td id=\"T_f6e33_row6_col0\" class=\"data row6 col0\" >영국 파운드/달러</td>\n",
       "      <td id=\"T_f6e33_row6_col1\" class=\"data row6 col1\" >1.2314</td>\n",
       "    </tr>\n",
       "    <tr>\n",
       "      <td id=\"T_f6e33_row7_col0\" class=\"data row7 col0\" >달러인덱스</td>\n",
       "      <td id=\"T_f6e33_row7_col1\" class=\"data row7 col1\" >102.2000</td>\n",
       "    </tr>\n",
       "    <tr>\n",
       "      <td id=\"T_f6e33_row8_col0\" class=\"data row8 col0\" >WTI</td>\n",
       "      <td id=\"T_f6e33_row8_col1\" class=\"data row8 col1\" >69.96</td>\n",
       "    </tr>\n",
       "    <tr>\n",
       "      <td id=\"T_f6e33_row9_col0\" class=\"data row9 col0\" >휘발유</td>\n",
       "      <td id=\"T_f6e33_row9_col1\" class=\"data row9 col1\" >1594.51</td>\n",
       "    </tr>\n",
       "    <tr>\n",
       "      <td id=\"T_f6e33_row10_col0\" class=\"data row10 col0\" >국제 금</td>\n",
       "      <td id=\"T_f6e33_row10_col1\" class=\"data row10 col1\" >1995.9</td>\n",
       "    </tr>\n",
       "    <tr>\n",
       "      <td id=\"T_f6e33_row11_col0\" class=\"data row11 col0\" >국내 금</td>\n",
       "      <td id=\"T_f6e33_row11_col1\" class=\"data row11 col1\" >82534.58</td>\n",
       "    </tr>\n",
       "  </tbody>\n",
       "</table>\n"
      ],
      "text/plain": [
       "<pandas.io.formats.style.Styler at 0x21aeeca3280>"
      ]
     },
     "execution_count": 15,
     "metadata": {},
     "output_type": "execute_result"
    }
   ],
   "source": [
    "pd.DataFrame({today : name_list, 'exchange, market price':currency_list}).style.hide_index()"
   ]
  }
 ],
 "metadata": {
  "kernelspec": {
   "display_name": "Python 3 (ipykernel)",
   "language": "python",
   "name": "python3"
  },
  "language_info": {
   "codemirror_mode": {
    "name": "ipython",
    "version": 3
   },
   "file_extension": ".py",
   "mimetype": "text/x-python",
   "name": "python",
   "nbconvert_exporter": "python",
   "pygments_lexer": "ipython3",
   "version": "3.10.6"
  },
  "toc": {
   "base_numbering": 1,
   "nav_menu": {},
   "number_sections": true,
   "sideBar": true,
   "skip_h1_title": false,
   "title_cell": "Table of Contents",
   "title_sidebar": "Contents",
   "toc_cell": false,
   "toc_position": {
    "height": "calc(100% - 180px)",
    "left": "10px",
    "top": "150px",
    "width": "288px"
   },
   "toc_section_display": true,
   "toc_window_display": true
  }
 },
 "nbformat": 4,
 "nbformat_minor": 5
}
