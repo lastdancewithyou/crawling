{
 "cells": [
  {
   "cell_type": "markdown",
   "id": "67e29024",
   "metadata": {},
   "source": [
    "# <네이버 날씨 가져오기>"
   ]
  },
  {
   "cell_type": "code",
   "execution_count": 3,
   "id": "6dde7085",
   "metadata": {
    "ExecuteTime": {
     "end_time": "2023-03-24T06:32:57.811763Z",
     "start_time": "2023-03-24T06:32:56.901609Z"
    }
   },
   "outputs": [
    {
     "name": "stdout",
     "output_type": "stream",
     "text": [
      "Collecting requests\n",
      "  Downloading requests-2.28.2-py3-none-any.whl (62 kB)\n",
      "\u001b[2K     \u001b[38;2;114;156;31m━━━━━━━━━━━━━━━━━━━━━━━━━━━━━━━━━━━━━━━━\u001b[0m \u001b[32m62.8/62.8 kB\u001b[0m \u001b[31m3.9 MB/s\u001b[0m eta \u001b[36m0:00:00\u001b[0m\n",
      "\u001b[?25hRequirement already satisfied: urllib3<1.27,>=1.21.1 in /opt/homebrew/lib/python3.10/site-packages (from requests) (1.26.12)\n",
      "Requirement already satisfied: idna<4,>=2.5 in /opt/homebrew/lib/python3.10/site-packages (from requests) (3.4)\n",
      "Requirement already satisfied: certifi>=2017.4.17 in /opt/homebrew/lib/python3.10/site-packages (from requests) (2022.9.24)\n",
      "Requirement already satisfied: charset-normalizer<4,>=2 in /opt/homebrew/lib/python3.10/site-packages (from requests) (2.1.1)\n",
      "Installing collected packages: requests\n",
      "Successfully installed requests-2.28.2\n",
      "\n",
      "\u001b[1m[\u001b[0m\u001b[34;49mnotice\u001b[0m\u001b[1;39;49m]\u001b[0m\u001b[39;49m A new release of pip available: \u001b[0m\u001b[31;49m22.2.2\u001b[0m\u001b[39;49m -> \u001b[0m\u001b[32;49m23.0.1\u001b[0m\n",
      "\u001b[1m[\u001b[0m\u001b[34;49mnotice\u001b[0m\u001b[1;39;49m]\u001b[0m\u001b[39;49m To update, run: \u001b[0m\u001b[32;49mpython3.10 -m pip install --upgrade pip\u001b[0m\n"
     ]
    }
   ],
   "source": [
    "!pip install requests"
   ]
  },
  {
   "cell_type": "code",
   "execution_count": 2,
   "id": "00fbe525",
   "metadata": {
    "ExecuteTime": {
     "end_time": "2023-03-26T08:18:19.485008Z",
     "start_time": "2023-03-26T08:18:19.390269Z"
    }
   },
   "outputs": [],
   "source": [
    "#라이브러리 호출\n",
    "from bs4 import BeautifulSoup as bs\n",
    "from pprint import pprint # Pretty Print\n",
    "import requests\n",
    "\n",
    "\n",
    "\n",
    "\n",
    "\n"
   ]
  },
  {
   "cell_type": "code",
   "execution_count": null,
   "id": "e5967a91",
   "metadata": {
    "ExecuteTime": {
     "start_time": "2023-03-26T08:18:20.542Z"
    }
   },
   "outputs": [],
   "source": [
    "#주소\n",
    "html = requests.get('https://search.naver.com/search.naver?query=광진구+날씨')\n",
    "pprint(html.text)"
   ]
  },
  {
   "cell_type": "code",
   "execution_count": 6,
   "id": "4889041d",
   "metadata": {
    "ExecuteTime": {
     "end_time": "2023-03-24T06:33:08.996006Z",
     "start_time": "2023-03-24T06:33:08.733723Z"
    }
   },
   "outputs": [],
   "source": [
    "#파싱 \n",
    "soup = bs(html.text, 'html.parser')\n",
    "pprint(soup)"
   ]
  },
  {
   "cell_type": "markdown",
   "id": "0e1764fa",
   "metadata": {},
   "source": [
    " # find - 요소 1개 찾기"
   ]
  },
  {
   "cell_type": "markdown",
   "id": "8606bb86",
   "metadata": {},
   "source": [
    "## 주소"
   ]
  },
  {
   "cell_type": "code",
   "execution_count": 7,
   "id": "f905f5ed",
   "metadata": {
    "ExecuteTime": {
     "end_time": "2023-03-24T06:33:41.381096Z",
     "start_time": "2023-03-24T06:33:41.373969Z"
    },
    "scrolled": true
   },
   "outputs": [
    {
     "name": "stdout",
     "output_type": "stream",
     "text": [
      "광진구 중곡동\n"
     ]
    }
   ],
   "source": [
    "# 영역 추출\n",
    "# 속성, 속성값 여러개일 수 있으니 dic으로\n",
    "# 똑같은 코드가 여러개 있을 수 있음 - find : 맨 앞에 있는 걸로 추출\n",
    "address = soup.find('div', {'class':'title_area _area_panel'}).find('h2', {'class':'title'}).text\n",
    "#div 태그 안에 있는 h2 태그의 텍스트 값 불러오기\n",
    "print(address)"
   ]
  },
  {
   "cell_type": "markdown",
   "id": "a2f0f7c0",
   "metadata": {},
   "source": [
    "## 여러 날씨 정보 가져오기"
   ]
  },
  {
   "cell_type": "code",
   "execution_count": 9,
   "id": "d31d8c44",
   "metadata": {
    "ExecuteTime": {
     "end_time": "2023-03-24T06:33:51.525519Z",
     "start_time": "2023-03-24T06:33:51.510329Z"
    }
   },
   "outputs": [
    {
     "data": {
      "text/plain": [
       "<div class=\"weather_info\"> <div class=\"status_wrap\"> <h3 class=\"blind\">오늘의 날씨</h3> <div class=\"_today\"> <div class=\"weather_graphic\"> <div class=\"weather_main\"> <i class=\"wt_icon ico_wt1\"><span class=\"blind\">맑음</span></i> </div> <div class=\"temperature_text\"> <strong><span class=\"blind\">현재 온도</span>17.2<span class=\"celsius\">°</span></strong> </div> </div> <div class=\"temperature_info\"> <p class=\"summary\">어제보다 <span class=\"temperature down\">5.3° <span class=\"blind\">낮아요</span> </span> <span class=\"weather before_slash\">맑음</span> </p> <dl class=\"summary_list\"> <dt class=\"term\">체감</dt> <dd class=\"desc\">18.0°</dd> <dt class=\"term\">습도</dt> <dd class=\"desc\">29%</dd> <dt class=\"term\">바람(북동풍)</dt> <dd class=\"desc\">0.7m/s</dd> </dl> </div> </div> <div class=\"report_card_wrap\"> <ul class=\"today_chart_list\"> <li class=\"item_today level3\"> <a href=\"?where=nexearch&amp;sm=tab_etc&amp;pkid=227&amp;qvt=0&amp;query=%EC%84%9C%EC%9A%B8%ED%8A%B9%EB%B3%84%EC%8B%9C%20%EA%B4%91%EC%A7%84%EA%B5%AC%20%EC%A4%91%EA%B3%A1%EB%8F%99%20%EB%AF%B8%EC%84%B8%EB%A8%BC%EC%A7%80\" nocr=\"\" onclick=\"return goOtherCR(this, 'a=nco_x7t*4&amp;r=1&amp;i=88157038_00000065035F&amp;u=' + urlencode(this.href));\"> <strong class=\"title\">미세먼지</strong> <span class=\"txt\">나쁨</span> </a> </li> <li class=\"item_today level1\"> <a href=\"?where=nexearch&amp;sm=tab_etc&amp;pkid=227&amp;qvt=0&amp;query=%EC%84%9C%EC%9A%B8%ED%8A%B9%EB%B3%84%EC%8B%9C%20%EA%B4%91%EC%A7%84%EA%B5%AC%20%EC%A4%91%EA%B3%A1%EB%8F%99%20%EC%B4%88%EB%AF%B8%EC%84%B8%EB%A8%BC%EC%A7%80\" nocr=\"\" onclick=\"return goOtherCR(this, 'a=nco_x7t*4&amp;r=1&amp;i=88157038_00000065035F&amp;u=' + urlencode(this.href));\"> <strong class=\"title\">초미세먼지</strong> <span class=\"txt\">보통</span> </a> </li> <li class=\"item_today level2\"> <a href=\"#\" nocr=\"\" onclick=\"goOtherTCR(this, 'a=nco_x7t*4&amp;r=1&amp;i=88157038_00000065035F');return false;\"> <strong class=\"title\">자외선</strong> <span class=\"txt\">좋음</span> </a> </li> <li class=\"item_today type_sun\"> <a href=\"#\" nocr=\"\" onclick=\"goOtherTCR(this, 'a=nco_x7t*4&amp;r=1&amp;i=88157038_00000065035F');return false;\"> <strong class=\"title\">일몰</strong> <span class=\"txt\">18:47</span> </a> </li> </ul> </div> </div> </div>"
      ]
     },
     "execution_count": 9,
     "metadata": {},
     "output_type": "execute_result"
    }
   ],
   "source": [
    "# 날씨 정보 담고 있는 상위 태그 불러오기\n",
    "weather_info = soup.find('div', {'class','weather_info'})\n",
    "weather_info"
   ]
  },
  {
   "cell_type": "code",
   "execution_count": 10,
   "id": "16c80c22",
   "metadata": {
    "ExecuteTime": {
     "end_time": "2023-03-24T06:33:54.594106Z",
     "start_time": "2023-03-24T06:33:54.590201Z"
    }
   },
   "outputs": [
    {
     "name": "stdout",
     "output_type": "stream",
     "text": [
      "17.2°\n"
     ]
    }
   ],
   "source": [
    "# 현재 온도\n",
    "#strip[5:] - 앞의 5글자; \"현재 온도\" 없애주기\n",
    "current_temp = weather_info.find('div', {'class':'temperature_text'}).text.strip()[5:]\n",
    "print(current_temp)"
   ]
  },
  {
   "cell_type": "code",
   "execution_count": 11,
   "id": "6703b8a3",
   "metadata": {
    "ExecuteTime": {
     "end_time": "2023-03-24T06:33:57.427666Z",
     "start_time": "2023-03-24T06:33:57.424121Z"
    }
   },
   "outputs": [
    {
     "name": "stdout",
     "output_type": "stream",
     "text": [
      "맑음\n"
     ]
    }
   ],
   "source": [
    "# 날씨 상태\n",
    "weather_status = weather_info.find('span', {'class':'weather before_slash'}).text\n",
    "print(weather_status)"
   ]
  },
  {
   "cell_type": "markdown",
   "id": "0eece1a3",
   "metadata": {},
   "source": [
    "# findAll - 요소 모두 찾기"
   ]
  },
  {
   "cell_type": "markdown",
   "id": "128400eb",
   "metadata": {},
   "source": [
    "## 그 외 정보(공기 상태, 자외선, 일출 시간)"
   ]
  },
  {
   "cell_type": "code",
   "execution_count": 12,
   "id": "3fc4c7a4",
   "metadata": {
    "ExecuteTime": {
     "end_time": "2023-03-24T06:34:07.680441Z",
     "start_time": "2023-03-24T06:34:07.674214Z"
    }
   },
   "outputs": [],
   "source": [
    "# 그 외 정보 담고 있는 상위 태그 \n",
    "all_theother_info = soup.find('ul', {'class':'today_chart_list'})\n",
    "#print(all_theother_info.text)"
   ]
  },
  {
   "cell_type": "code",
   "execution_count": 13,
   "id": "31dd1064",
   "metadata": {
    "ExecuteTime": {
     "end_time": "2023-03-24T06:34:08.693869Z",
     "start_time": "2023-03-24T06:34:08.690982Z"
    }
   },
   "outputs": [],
   "source": [
    "# 각각 info 가져오기\n",
    "each_info = all_theother_info.find_all('li',{'class':'item_today'})"
   ]
  },
  {
   "cell_type": "code",
   "execution_count": 14,
   "id": "a9ba2486",
   "metadata": {
    "ExecuteTime": {
     "end_time": "2023-03-24T06:34:09.843997Z",
     "start_time": "2023-03-24T06:34:09.840355Z"
    }
   },
   "outputs": [
    {
     "name": "stdout",
     "output_type": "stream",
     "text": [
      "미세먼지 나쁨\n",
      "초미세먼지 보통\n",
      "자외선 좋음\n",
      "일몰 18:47\n"
     ]
    }
   ],
   "source": [
    "for info in each_info:\n",
    "    print(info.text.strip())"
   ]
  },
  {
   "cell_type": "markdown",
   "id": "a3e3775a",
   "metadata": {},
   "source": [
    "## 시간별 기온"
   ]
  },
  {
   "cell_type": "code",
   "execution_count": 15,
   "id": "756e92f7",
   "metadata": {
    "ExecuteTime": {
     "end_time": "2023-03-24T06:34:27.633292Z",
     "start_time": "2023-03-24T06:34:27.591978Z"
    }
   },
   "outputs": [
    {
     "name": "stdout",
     "output_type": "stream",
     "text": [
      "16시  구름많음     18°\n",
      "17시  구름많음     17°\n",
      "18시  구름많음     16°\n",
      "19시  흐림     14°\n",
      "20시  구름많음     13°\n",
      "21시  구름많음     13°\n",
      "22시  구름많음     12°\n",
      "23시  구름많음     11°\n",
      "내일  구름많음     10°\n",
      "01시  흐림     9°\n",
      "02시  구름많음     8°\n",
      "03시  맑음     8°\n",
      "04시  맑음     8°\n",
      "05시  맑음     7°\n",
      "06시  맑음     7°\n",
      "07시  구름많음     6°\n",
      "08시  흐림     8°\n",
      "09시  흐림     10°\n",
      "10시  흐림     12°\n",
      "11시  흐림     14°\n",
      "12시  구름많음     15°\n",
      "13시  구름많음     17°\n",
      "14시  맑음     17°\n",
      "15시  구름많음     18°\n",
      "16시  구름많음     18°\n",
      "17시  구름많음     17°\n",
      "18시  구름많음     16°\n",
      "19시  구름많음     15°\n",
      "20시  구름많음     14°\n",
      "21시  흐림     13°\n",
      "22시  흐림     12°\n",
      "23시  흐림     11°\n",
      "모레  흐림     11°\n",
      "01시  흐림     10°\n",
      "02시  흐림     10°\n",
      "03시  흐림     9°\n",
      "04시  흐림     9°\n",
      "05시  흐림     8°\n",
      "06시  흐림     8°\n",
      "07시  흐림     7°\n",
      "08시  흐림     9°\n",
      "09시  구름많음     10°\n",
      "10시  흐림     12°\n",
      "11시  구름많음     13°\n",
      "12시  맑음     14°\n",
      "13시  맑음     14°\n",
      "14시  맑음     15°\n",
      "15시  맑음     15°\n",
      "16시  맑음     15°\n",
      "17시  맑음     14°\n",
      "18시  맑음     13°\n",
      "19시  맑음     11°\n",
      "20시  맑음     10°\n",
      "21시  맑음     9°\n",
      "22시  맑음     7°\n",
      "23시  맑음     7°\n",
      "03.27  맑음     6°\n",
      "16시  구름많음     18°\n",
      "17시  구름많음     17°\n",
      "18시  구름많음     16°\n",
      "19시  흐림     14°\n",
      "20시  구름많음     13°\n",
      "21시  구름많음     13°\n",
      "22시  구름많음     12°\n",
      "23시  구름많음     11°\n",
      "내일  구름많음     10°\n",
      "01시  흐림     9°\n",
      "02시  구름많음     8°\n",
      "03시  맑음     8°\n",
      "04시  맑음     8°\n",
      "05시  맑음     7°\n",
      "06시  맑음     7°\n",
      "07시  구름많음     6°\n",
      "08시  흐림     8°\n",
      "09시  흐림     10°\n",
      "10시  흐림     12°\n",
      "11시  흐림     14°\n",
      "12시  구름많음     15°\n",
      "13시  구름많음     17°\n",
      "14시  맑음     17°\n",
      "15시  구름많음     18°\n",
      "16시  구름많음     18°\n",
      "17시  구름많음     17°\n",
      "18시  구름많음     16°\n",
      "19시  구름많음     15°\n",
      "20시  구름많음     14°\n",
      "21시  흐림     13°\n",
      "22시  흐림     12°\n",
      "23시  흐림     11°\n",
      "모레  흐림     11°\n",
      "01시  흐림     10°\n",
      "02시  흐림     10°\n",
      "03시  흐림     9°\n",
      "04시  흐림     9°\n",
      "05시  흐림     8°\n",
      "06시  흐림     8°\n",
      "07시  흐림     7°\n",
      "08시  흐림     9°\n",
      "09시  구름많음     10°\n",
      "10시  흐림     12°\n",
      "11시  구름많음     13°\n",
      "12시  맑음     14°\n",
      "13시  맑음     14°\n",
      "14시  맑음     15°\n",
      "15시  맑음     15°\n",
      "16시  맑음     15°\n",
      "17시  맑음     14°\n",
      "18시  맑음     13°\n",
      "19시  맑음     11°\n",
      "20시  맑음     10°\n",
      "21시  맑음     9°\n",
      "22시  맑음     7°\n",
      "23시  맑음     7°\n",
      "03.27  맑음     6°\n",
      "16시  구름많음     18°\n",
      "17시  구름많음     17°\n",
      "18시  구름많음     16°\n",
      "19시  흐림     14°\n",
      "20시  구름많음     13°\n",
      "21시  구름많음     13°\n",
      "22시  구름많음     12°\n",
      "23시  구름많음     11°\n",
      "내일  구름많음     10°\n",
      "01시  흐림     9°\n",
      "02시  구름많음     8°\n",
      "03시  맑음     8°\n",
      "04시  맑음     8°\n",
      "05시  맑음     7°\n",
      "06시  맑음     7°\n",
      "07시  구름많음     6°\n",
      "08시  흐림     8°\n",
      "09시  흐림     10°\n",
      "10시  흐림     12°\n",
      "11시  흐림     14°\n",
      "12시  구름많음     15°\n",
      "13시  구름많음     17°\n",
      "14시  맑음     17°\n",
      "15시  구름많음     18°\n",
      "16시  구름많음     18°\n",
      "17시  구름많음     17°\n",
      "18시  구름많음     16°\n",
      "19시  구름많음     15°\n",
      "20시  구름많음     14°\n",
      "21시  흐림     13°\n",
      "22시  흐림     12°\n",
      "23시  흐림     11°\n",
      "모레  흐림     11°\n",
      "01시  흐림     10°\n",
      "02시  흐림     10°\n",
      "03시  흐림     9°\n",
      "04시  흐림     9°\n",
      "05시  흐림     8°\n",
      "06시  흐림     8°\n",
      "07시  흐림     7°\n",
      "08시  흐림     9°\n",
      "09시  구름많음     10°\n",
      "10시  흐림     12°\n",
      "11시  구름많음     13°\n",
      "12시  맑음     14°\n",
      "13시  맑음     14°\n",
      "14시  맑음     15°\n",
      "15시  맑음     15°\n",
      "16시  맑음     15°\n",
      "17시  맑음     14°\n",
      "18시  맑음     13°\n",
      "19시  맑음     11°\n",
      "20시  맑음     10°\n",
      "21시  맑음     9°\n",
      "22시  맑음     7°\n",
      "23시  맑음     7°\n",
      "03.27  맑음     6°\n"
     ]
    }
   ],
   "source": [
    "time_temp = soup.find_all('li',{'class':'_li'})\n",
    "for i in time_temp:\n",
    "    print(i.text.strip())"
   ]
  },
  {
   "cell_type": "code",
   "execution_count": 16,
   "id": "d5763040",
   "metadata": {
    "ExecuteTime": {
     "end_time": "2023-03-24T06:34:36.068626Z",
     "start_time": "2023-03-24T06:34:36.058046Z"
    }
   },
   "outputs": [
    {
     "name": "stdout",
     "output_type": "stream",
     "text": [
      "위치 : 광진구 중곡동\n",
      "현재 온도 : 17.2°\n",
      "날씨 상태 : 맑음\n",
      "----------------------------------------------------------------------------------------------------\n",
      "미세먼지 나쁨\n",
      "초미세먼지 보통\n",
      "자외선 좋음\n",
      "일몰 18:47\n",
      "\n",
      "시간대별 기온\n",
      "16시  구름많음     18°\n",
      "17시  구름많음     17°\n",
      "18시  구름많음     16°\n",
      "19시  흐림     14°\n",
      "20시  구름많음     13°\n",
      "21시  구름많음     13°\n",
      "22시  구름많음     12°\n",
      "23시  구름많음     11°\n",
      "내일  구름많음     10°\n",
      "01시  흐림     9°\n",
      "02시  구름많음     8°\n",
      "03시  맑음     8°\n",
      "04시  맑음     8°\n",
      "05시  맑음     7°\n",
      "06시  맑음     7°\n",
      "07시  구름많음     6°\n",
      "08시  흐림     8°\n",
      "09시  흐림     10°\n",
      "10시  흐림     12°\n",
      "11시  흐림     14°\n",
      "12시  구름많음     15°\n",
      "13시  구름많음     17°\n",
      "14시  맑음     17°\n",
      "15시  구름많음     18°\n",
      "16시  구름많음     18°\n",
      "17시  구름많음     17°\n",
      "18시  구름많음     16°\n",
      "19시  구름많음     15°\n",
      "20시  구름많음     14°\n",
      "21시  흐림     13°\n",
      "22시  흐림     12°\n",
      "23시  흐림     11°\n",
      "모레  흐림     11°\n",
      "01시  흐림     10°\n",
      "02시  흐림     10°\n",
      "03시  흐림     9°\n",
      "04시  흐림     9°\n",
      "05시  흐림     8°\n",
      "06시  흐림     8°\n",
      "07시  흐림     7°\n",
      "08시  흐림     9°\n",
      "09시  구름많음     10°\n",
      "10시  흐림     12°\n",
      "11시  구름많음     13°\n",
      "12시  맑음     14°\n",
      "13시  맑음     14°\n",
      "14시  맑음     15°\n",
      "15시  맑음     15°\n",
      "16시  맑음     15°\n",
      "17시  맑음     14°\n",
      "18시  맑음     13°\n",
      "19시  맑음     11°\n",
      "20시  맑음     10°\n",
      "21시  맑음     9°\n",
      "22시  맑음     7°\n",
      "23시  맑음     7°\n",
      "03.27  맑음     6°\n",
      "16시  구름많음     18°\n",
      "17시  구름많음     17°\n",
      "18시  구름많음     16°\n",
      "19시  흐림     14°\n",
      "20시  구름많음     13°\n",
      "21시  구름많음     13°\n",
      "22시  구름많음     12°\n",
      "23시  구름많음     11°\n",
      "내일  구름많음     10°\n",
      "01시  흐림     9°\n",
      "02시  구름많음     8°\n",
      "03시  맑음     8°\n",
      "04시  맑음     8°\n",
      "05시  맑음     7°\n",
      "06시  맑음     7°\n",
      "07시  구름많음     6°\n",
      "08시  흐림     8°\n",
      "09시  흐림     10°\n",
      "10시  흐림     12°\n",
      "11시  흐림     14°\n",
      "12시  구름많음     15°\n",
      "13시  구름많음     17°\n",
      "14시  맑음     17°\n",
      "15시  구름많음     18°\n",
      "16시  구름많음     18°\n",
      "17시  구름많음     17°\n",
      "18시  구름많음     16°\n",
      "19시  구름많음     15°\n",
      "20시  구름많음     14°\n",
      "21시  흐림     13°\n",
      "22시  흐림     12°\n",
      "23시  흐림     11°\n",
      "모레  흐림     11°\n",
      "01시  흐림     10°\n",
      "02시  흐림     10°\n",
      "03시  흐림     9°\n",
      "04시  흐림     9°\n",
      "05시  흐림     8°\n",
      "06시  흐림     8°\n",
      "07시  흐림     7°\n",
      "08시  흐림     9°\n",
      "09시  구름많음     10°\n",
      "10시  흐림     12°\n",
      "11시  구름많음     13°\n",
      "12시  맑음     14°\n",
      "13시  맑음     14°\n",
      "14시  맑음     15°\n",
      "15시  맑음     15°\n",
      "16시  맑음     15°\n",
      "17시  맑음     14°\n",
      "18시  맑음     13°\n",
      "19시  맑음     11°\n",
      "20시  맑음     10°\n",
      "21시  맑음     9°\n",
      "22시  맑음     7°\n",
      "23시  맑음     7°\n",
      "03.27  맑음     6°\n",
      "16시  구름많음     18°\n",
      "17시  구름많음     17°\n",
      "18시  구름많음     16°\n",
      "19시  흐림     14°\n",
      "20시  구름많음     13°\n",
      "21시  구름많음     13°\n",
      "22시  구름많음     12°\n",
      "23시  구름많음     11°\n",
      "내일  구름많음     10°\n",
      "01시  흐림     9°\n",
      "02시  구름많음     8°\n",
      "03시  맑음     8°\n",
      "04시  맑음     8°\n",
      "05시  맑음     7°\n",
      "06시  맑음     7°\n",
      "07시  구름많음     6°\n",
      "08시  흐림     8°\n",
      "09시  흐림     10°\n",
      "10시  흐림     12°\n",
      "11시  흐림     14°\n",
      "12시  구름많음     15°\n",
      "13시  구름많음     17°\n",
      "14시  맑음     17°\n",
      "15시  구름많음     18°\n",
      "16시  구름많음     18°\n",
      "17시  구름많음     17°\n",
      "18시  구름많음     16°\n",
      "19시  구름많음     15°\n",
      "20시  구름많음     14°\n",
      "21시  흐림     13°\n",
      "22시  흐림     12°\n",
      "23시  흐림     11°\n",
      "모레  흐림     11°\n",
      "01시  흐림     10°\n",
      "02시  흐림     10°\n",
      "03시  흐림     9°\n",
      "04시  흐림     9°\n",
      "05시  흐림     8°\n",
      "06시  흐림     8°\n",
      "07시  흐림     7°\n",
      "08시  흐림     9°\n",
      "09시  구름많음     10°\n",
      "10시  흐림     12°\n",
      "11시  구름많음     13°\n",
      "12시  맑음     14°\n",
      "13시  맑음     14°\n",
      "14시  맑음     15°\n",
      "15시  맑음     15°\n",
      "16시  맑음     15°\n",
      "17시  맑음     14°\n",
      "18시  맑음     13°\n",
      "19시  맑음     11°\n",
      "20시  맑음     10°\n",
      "21시  맑음     9°\n",
      "22시  맑음     7°\n",
      "23시  맑음     7°\n",
      "03.27  맑음     6°\n"
     ]
    }
   ],
   "source": [
    "print(\"위치 : \" + address)\n",
    "print(\"현재 온도 : \" + current_temp)\n",
    "print(\"날씨 상태 : \" + weather_status)\n",
    "print(\"-\"*100)\n",
    "for info in each_info:\n",
    "    print(info.text.strip())\n",
    "print(\"\")\n",
    "print(\"시간대별 기온\")\n",
    "for i in time_temp:\n",
    "    print(i.text.strip())"
   ]
  }
 ],
 "metadata": {
  "kernelspec": {
   "display_name": "Python 3 (ipykernel)",
   "language": "python",
   "name": "python3"
  },
  "language_info": {
   "codemirror_mode": {
    "name": "ipython",
    "version": 3
   },
   "file_extension": ".py",
   "mimetype": "text/x-python",
   "name": "python",
   "nbconvert_exporter": "python",
   "pygments_lexer": "ipython3",
   "version": "3.9.13"
  },
  "toc": {
   "base_numbering": 1,
   "nav_menu": {},
   "number_sections": true,
   "sideBar": true,
   "skip_h1_title": false,
   "title_cell": "Table of Contents",
   "title_sidebar": "Contents",
   "toc_cell": false,
   "toc_position": {
    "height": "calc(100% - 180px)",
    "left": "10px",
    "top": "150px",
    "width": "288px"
   },
   "toc_section_display": true,
   "toc_window_display": true
  }
 },
 "nbformat": 4,
 "nbformat_minor": 5
}
