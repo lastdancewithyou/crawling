{
 "cells": [
  {
   "cell_type": "code",
   "execution_count": 2,
   "id": "b9067282",
   "metadata": {
    "ExecuteTime": {
     "end_time": "2023-04-07T05:43:00.990312Z",
     "start_time": "2023-04-07T05:43:00.655271Z"
    }
   },
   "outputs": [],
   "source": [
    "import pandas as pd\n",
    "import requests\n",
    "from bs4 import BeautifulSoup"
   ]
  },
  {
   "cell_type": "markdown",
   "id": "5ef5258c",
   "metadata": {},
   "source": [
    "> HollysCoffee\n",
    "url = https://www.hollys.co.kr/store/korea/korStore.do?pageNo=1&sido=&gugun=&store="
   ]
  },
  {
   "cell_type": "code",
   "execution_count": 19,
   "id": "bc5d469f",
   "metadata": {
    "ExecuteTime": {
     "end_time": "2023-04-07T05:54:17.896255Z",
     "start_time": "2023-04-07T05:53:43.901554Z"
    }
   },
   "outputs": [],
   "source": [
    "# url get\n",
    "hollys_list = []\n",
    "a_lists = list(range(1, 58, 1))\n",
    "for a in a_lists:\n",
    "    url = 'https://www.hollys.co.kr/store/korea/korStore.do?pageNo=' + str(a) + '&sido=&gugun=&store='\n",
    "    response = requests.get(url)\n",
    "\n",
    "    # 응답의 content를 파싱\n",
    "    html = requests.get(url).text\n",
    "    soup = BeautifulSoup(html, 'html.parser')\n",
    "\n",
    "    table = soup.find('div', {'class': 'tableType01'})\n",
    "    tbody = table.find('tbody')\n",
    "\n",
    "    for tr in tbody.find_all('tr'):\n",
    "        tds = tr.find_all('td')\n",
    "        if tds:\n",
    "            hollys_list.append({\n",
    "                '지역': tds[0].text,\n",
    "                '매장명': tds[1].text,\n",
    "                '주소': tds[3].text,\n",
    "                '전화번호': tds[5].text\n",
    "            })"
   ]
  },
  {
   "cell_type": "code",
   "execution_count": 20,
   "id": "671c5815",
   "metadata": {
    "ExecuteTime": {
     "end_time": "2023-04-07T05:54:19.643250Z",
     "start_time": "2023-04-07T05:54:19.626824Z"
    }
   },
   "outputs": [
    {
     "data": {
      "text/html": [
       "<div>\n",
       "<style scoped>\n",
       "    .dataframe tbody tr th:only-of-type {\n",
       "        vertical-align: middle;\n",
       "    }\n",
       "\n",
       "    .dataframe tbody tr th {\n",
       "        vertical-align: top;\n",
       "    }\n",
       "\n",
       "    .dataframe thead th {\n",
       "        text-align: right;\n",
       "    }\n",
       "</style>\n",
       "<table border=\"1\" class=\"dataframe\">\n",
       "  <thead>\n",
       "    <tr style=\"text-align: right;\">\n",
       "      <th></th>\n",
       "      <th>지역</th>\n",
       "      <th>매장명</th>\n",
       "      <th>주소</th>\n",
       "      <th>전화번호</th>\n",
       "    </tr>\n",
       "  </thead>\n",
       "  <tbody>\n",
       "    <tr>\n",
       "      <th>0</th>\n",
       "      <td>경기 부천시 소사구</td>\n",
       "      <td>부천심곡점</td>\n",
       "      <td>경기도 부천시 장말로 376 심곡동 355-1</td>\n",
       "      <td>032-612-7258</td>\n",
       "    </tr>\n",
       "    <tr>\n",
       "      <th>1</th>\n",
       "      <td>경기 성남시 분당구</td>\n",
       "      <td>성남터미널점</td>\n",
       "      <td>경기도 성남시 분당구 성남대로925번길 16, 성남종합버스터미널 1층</td>\n",
       "      <td>031-725-1004</td>\n",
       "    </tr>\n",
       "    <tr>\n",
       "      <th>2</th>\n",
       "      <td>부산 사상구</td>\n",
       "      <td>부산백양대로점</td>\n",
       "      <td>괘법동 141</td>\n",
       "      <td>051-311-5399</td>\n",
       "    </tr>\n",
       "    <tr>\n",
       "      <th>3</th>\n",
       "      <td>서울 성동구</td>\n",
       "      <td>왕십리역점</td>\n",
       "      <td>성동구 왕십리광장로 17 (행당동 168-151 ), 비트플렉스몰 3층</td>\n",
       "      <td>02-2200-1303</td>\n",
       "    </tr>\n",
       "    <tr>\n",
       "      <th>4</th>\n",
       "      <td>서울 마포구</td>\n",
       "      <td>홍대출판사거리점</td>\n",
       "      <td>서울시 마포구 독막로7길 40, 1층</td>\n",
       "      <td>02-332-3567</td>\n",
       "    </tr>\n",
       "    <tr>\n",
       "      <th>...</th>\n",
       "      <td>...</td>\n",
       "      <td>...</td>\n",
       "      <td>...</td>\n",
       "      <td>...</td>\n",
       "    </tr>\n",
       "    <tr>\n",
       "      <th>562</th>\n",
       "      <td>서울 마포구</td>\n",
       "      <td>마포역점</td>\n",
       "      <td>서울시 마포구 도화동 555 한화오벨리스크B1 137~9</td>\n",
       "      <td>02-713-8788</td>\n",
       "    </tr>\n",
       "    <tr>\n",
       "      <th>563</th>\n",
       "      <td>서울 금천구</td>\n",
       "      <td>금천점</td>\n",
       "      <td>서울시 금천구 시흥대로 399, 씨티렉스604호</td>\n",
       "      <td>02-805-9908</td>\n",
       "    </tr>\n",
       "    <tr>\n",
       "      <th>564</th>\n",
       "      <td>서울 영등포구</td>\n",
       "      <td>영등포점</td>\n",
       "      <td>서울시 영등포구 경인로 847</td>\n",
       "      <td>070-4159-8897</td>\n",
       "    </tr>\n",
       "    <tr>\n",
       "      <th>565</th>\n",
       "      <td>서울 서대문구</td>\n",
       "      <td>신촌점</td>\n",
       "      <td>서울시 서대문구 연세로 34</td>\n",
       "      <td>02-393-2004</td>\n",
       "    </tr>\n",
       "    <tr>\n",
       "      <th>566</th>\n",
       "      <td>경기 성남시 수정구</td>\n",
       "      <td>성남점</td>\n",
       "      <td>경기도 성남시 수정구 수정로 175, 동일빌딩1층</td>\n",
       "      <td>031-721-6369</td>\n",
       "    </tr>\n",
       "  </tbody>\n",
       "</table>\n",
       "<p>567 rows × 4 columns</p>\n",
       "</div>"
      ],
      "text/plain": [
       "             지역       매장명                                       주소  \\\n",
       "0    경기 부천시 소사구     부천심곡점                경기도 부천시 장말로 376 심곡동 355-1   \n",
       "1    경기 성남시 분당구    성남터미널점   경기도 성남시 분당구 성남대로925번길 16, 성남종합버스터미널 1층   \n",
       "2        부산 사상구   부산백양대로점                                  괘법동 141   \n",
       "3        서울 성동구     왕십리역점  성동구 왕십리광장로 17 (행당동 168-151 ), 비트플렉스몰 3층   \n",
       "4        서울 마포구  홍대출판사거리점                     서울시 마포구 독막로7길 40, 1층   \n",
       "..          ...       ...                                      ...   \n",
       "562      서울 마포구      마포역점          서울시 마포구 도화동 555 한화오벨리스크B1 137~9   \n",
       "563      서울 금천구       금천점               서울시 금천구 시흥대로 399, 씨티렉스604호   \n",
       "564     서울 영등포구      영등포점                        서울시 영등포구 경인로 847    \n",
       "565     서울 서대문구       신촌점                         서울시 서대문구 연세로 34    \n",
       "566  경기 성남시 수정구       성남점              경기도 성남시 수정구 수정로 175, 동일빌딩1층   \n",
       "\n",
       "              전화번호  \n",
       "0     032-612-7258  \n",
       "1     031-725-1004  \n",
       "2     051-311-5399  \n",
       "3     02-2200-1303  \n",
       "4      02-332-3567  \n",
       "..             ...  \n",
       "562    02-713-8788  \n",
       "563    02-805-9908  \n",
       "564  070-4159-8897  \n",
       "565    02-393-2004  \n",
       "566   031-721-6369  \n",
       "\n",
       "[567 rows x 4 columns]"
      ]
     },
     "execution_count": 20,
     "metadata": {},
     "output_type": "execute_result"
    }
   ],
   "source": [
    "data = pd.DataFrame(data = hollys_list)\n",
    "data"
   ]
  }
 ],
 "metadata": {
  "kernelspec": {
   "display_name": "Python 3 (ipykernel)",
   "language": "python",
   "name": "python3"
  },
  "language_info": {
   "codemirror_mode": {
    "name": "ipython",
    "version": 3
   },
   "file_extension": ".py",
   "mimetype": "text/x-python",
   "name": "python",
   "nbconvert_exporter": "python",
   "pygments_lexer": "ipython3",
   "version": "3.9.13"
  },
  "toc": {
   "base_numbering": 1,
   "nav_menu": {},
   "number_sections": true,
   "sideBar": true,
   "skip_h1_title": false,
   "title_cell": "Table of Contents",
   "title_sidebar": "Contents",
   "toc_cell": false,
   "toc_position": {},
   "toc_section_display": true,
   "toc_window_display": true
  }
 },
 "nbformat": 4,
 "nbformat_minor": 5
}
