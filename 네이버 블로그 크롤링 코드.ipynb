{
 "cells": [
  {
   "cell_type": "code",
   "execution_count": 1,
   "id": "eced5e56",
   "metadata": {
    "ExecuteTime": {
     "end_time": "2023-06-05T05:13:54.417382Z",
     "start_time": "2023-06-05T05:13:52.963172Z"
    }
   },
   "outputs": [],
   "source": [
    "from selenium import webdriver\n",
    "import time\n",
    "from bs4 import BeautifulSoup\n",
    "from selenium.webdriver.common.by import By\n",
    "from selenium.webdriver.chrome.options import Options\n",
    "import pandas as pd"
   ]
  },
  {
   "cell_type": "code",
   "execution_count": 25,
   "id": "47f32920",
   "metadata": {
    "ExecuteTime": {
     "end_time": "2023-06-05T05:31:20.162204Z",
     "start_time": "2023-06-05T05:31:20.156253Z"
    }
   },
   "outputs": [],
   "source": [
    "# 크롬 옵션 객체 생성\n",
    "options = Options()\n",
    "\n",
    "#지정한 user-agent로 설정합니다.\n",
    "options = webdriver.ChromeOptions()\n",
    "options.add_argument(\"user-agent=Mozilla/5.0 (Windows NT 10.0; Win64; x64) AppleWebKit/537.36 (KHTML, like Gecko) Chrome/65.0.3325.146 Safari/537.36\")\n",
    "\n",
    "options.add_argument('headless')\n",
    "options.add_argument('disable-gpu')\n",
    "options.add_argument('disable-infobars')\n",
    "options.add_argument('--disable-extensions')"
   ]
  },
  {
   "cell_type": "code",
   "execution_count": 31,
   "id": "b7ce6621",
   "metadata": {
    "ExecuteTime": {
     "end_time": "2023-06-05T06:10:50.818979Z",
     "start_time": "2023-06-05T06:10:49.581473Z"
    }
   },
   "outputs": [
    {
     "name": "stderr",
     "output_type": "stream",
     "text": [
      "/var/folders/9t/s4kfwbj54wj1sw01v7vtb68h0000gn/T/ipykernel_55861/4032167621.py:1: DeprecationWarning: executable_path has been deprecated, please pass in a Service object\n",
      "  driver = webdriver.Chrome('/Users/kanovatio/chromedriver', options=options)\n"
     ]
    }
   ],
   "source": [
    "driver = webdriver.Chrome('/Users/kanovatio/chromedriver', options=options)"
   ]
  },
  {
   "cell_type": "code",
   "execution_count": 26,
   "id": "a14c8e72",
   "metadata": {
    "ExecuteTime": {
     "end_time": "2023-06-05T05:37:22.320049Z",
     "start_time": "2023-06-05T05:31:23.582330Z"
    }
   },
   "outputs": [
    {
     "name": "stderr",
     "output_type": "stream",
     "text": [
      "/var/folders/9t/s4kfwbj54wj1sw01v7vtb68h0000gn/T/ipykernel_55861/101640373.py:1: DeprecationWarning: executable_path has been deprecated, please pass in a Service object\n",
      "  driver = webdriver.Chrome('/Users/kanovatio/chromedriver', options=options)\n"
     ]
    },
    {
     "name": "stdout",
     "output_type": "stream",
     "text": [
      "어떤 키워드로 검색하시겠습니까? : 시각장애인\n",
      "url 수집 끝, 해당 url 데이터 크롤링\n"
     ]
    }
   ],
   "source": [
    "driver = webdriver.Chrome('/Users/kanovatio/chromedriver', options=options)\n",
    "url_list = []\n",
    "content_list = \" \"\n",
    "text = input('어떤 키워드로 검색하시겠습니까? : ')\n",
    " \n",
    "for i in range(1, 100):  # 1~n페이지까지의 블로그 내용을 읽어옴\n",
    "    url = 'https://section.blog.naver.com/Search/Post.nhn?pageNo='+ str(i) + '&rangeType=ALL&orderBy=sim&keyword=' + text\n",
    "    driver.get(url)\n",
    "    time.sleep(1)\n",
    "    \n",
    "    for j in range(1, 7): # 각 블로그 주소 저장\n",
    "        titles = driver.find_element(By.XPATH,'/html/body/ui-view/div/main/div/div/section/div[2]/div['+str(j)+']/div/div[1]/div[1]/a[1]')\n",
    "        title = titles.get_attribute('href')\n",
    "        url_list.append(title)\n",
    "print(\"url 수집 끝, 해당 url 데이터 크롤링\")"
   ]
  },
  {
   "cell_type": "code",
   "execution_count": 27,
   "id": "a006e860",
   "metadata": {
    "ExecuteTime": {
     "end_time": "2023-06-05T06:05:55.722356Z",
     "start_time": "2023-06-05T06:05:55.712921Z"
    }
   },
   "outputs": [
    {
     "data": {
      "text/plain": [
       "594"
      ]
     },
     "execution_count": 27,
     "metadata": {},
     "output_type": "execute_result"
    }
   ],
   "source": [
    "len(url_list)"
   ]
  },
  {
   "cell_type": "code",
   "execution_count": null,
   "id": "98928ac0",
   "metadata": {},
   "outputs": [],
   "source": [
    "Lists = []\n",
    "for url in url_list: # 수집한 url 만큼 반복\n",
    "    driver.get(url) # 해당 url로 이동\n",
    "    driver.switch_to.frame('mainFrame')\n",
    "    req = driver.page_source\n",
    "    soup=BeautifulSoup(req, 'html.parser')\n",
    "    \n",
    "    overlays = \".se-component.se-text.se-l-default\" # 내용 크롤링\n",
    "    contents = driver.find_elements(By.CSS_SELECTOR,(overlays))\n",
    "    names = soup.title.text.replace(\": 네이버 블로그\", \"\").replace(\": 네이버블로그\", \"\")\n",
    "    try :\n",
    "        dates = soup.select_one('span.se_publishDate').text.replace('. ', '/')\n",
    "    except :\n",
    "        dates = soup.select_one('p.date').text.replace('. ', '/')\n",
    "    for content in contents:\n",
    "        content_list = content_list + content.text.replace('\\n', ' ') # content_list 라는 값에 + 하면서 점점 누적\n",
    "    Lists.append([dates, names, content_list])\n",
    "    content_list = ' '\n",
    "\n",
    "driver.quit()"
   ]
  },
  {
   "cell_type": "code",
   "execution_count": 33,
   "id": "bfc6af6f",
   "metadata": {
    "ExecuteTime": {
     "end_time": "2023-06-05T10:04:35.489534Z",
     "start_time": "2023-06-05T10:04:35.448662Z"
    }
   },
   "outputs": [
    {
     "data": {
      "text/html": [
       "<div>\n",
       "<style scoped>\n",
       "    .dataframe tbody tr th:only-of-type {\n",
       "        vertical-align: middle;\n",
       "    }\n",
       "\n",
       "    .dataframe tbody tr th {\n",
       "        vertical-align: top;\n",
       "    }\n",
       "\n",
       "    .dataframe thead th {\n",
       "        text-align: right;\n",
       "    }\n",
       "</style>\n",
       "<table border=\"1\" class=\"dataframe\">\n",
       "  <thead>\n",
       "    <tr style=\"text-align: right;\">\n",
       "      <th></th>\n",
       "      <th>포스팅 날짜</th>\n",
       "      <th>글 제목</th>\n",
       "      <th>본문</th>\n",
       "    </tr>\n",
       "  </thead>\n",
       "  <tbody>\n",
       "    <tr>\n",
       "      <th>0</th>\n",
       "      <td>23시간 전</td>\n",
       "      <td>서로를 알아가는 법 (ft. 시각장애인 에티켓)</td>\n",
       "      <td>지난 낭독 동행 여행 사전 미팅 이후, 많은 가르침을 주셨던 김 선생님과 매일 톡...</td>\n",
       "    </tr>\n",
       "    <tr>\n",
       "      <th>1</th>\n",
       "      <td>6시간 전</td>\n",
       "      <td>한 치 앞 안 보인 학교, 시각 장애인 총장이 정상화</td>\n",
       "      <td>한 치 앞 안 보인 학교, 시각 장애인 총장이 정상화 이재서 총신대 前총장, 임기...</td>\n",
       "    </tr>\n",
       "    <tr>\n",
       "      <th>2</th>\n",
       "      <td>2023/3/15/16:22</td>\n",
       "      <td>시각장애인 대면 낭독봉사 후기</td>\n",
       "      <td>vms에서 새롭게 할 수 있는 봉사활동을 찾던 도중 생소한 봉사활동을 발견했다. ...</td>\n",
       "    </tr>\n",
       "    <tr>\n",
       "      <th>3</th>\n",
       "      <td>2023/3/27/23:05</td>\n",
       "      <td>안마바우처 신청 시각장애인 마사지 받아요~</td>\n",
       "      <td>안마바우처로 시각장애인 마사지 받아요저는 안마 받는 걸 너무나 좋아합니다 오늘처럼...</td>\n",
       "    </tr>\n",
       "    <tr>\n",
       "      <th>4</th>\n",
       "      <td>2023/5/12/10:10</td>\n",
       "      <td>(강의 리뷰) 11) 울산광역시 시각장애인 주간보호 센터 (배달강좌) 과정</td>\n",
       "      <td>#울산남구청#평생교육과#배달강좌#울산시각장애인주간보호센터#건강강좌#천샘의건강교실#...</td>\n",
       "    </tr>\n",
       "    <tr>\n",
       "      <th>...</th>\n",
       "      <td>...</td>\n",
       "      <td>...</td>\n",
       "      <td>...</td>\n",
       "    </tr>\n",
       "    <tr>\n",
       "      <th>402</th>\n",
       "      <td>2023/5/18/9:30</td>\n",
       "      <td>장애인인식개선교육 신청 [시각장애인]</td>\n",
       "      <td>WayMakers 말 그대로 길을 만드는 사람들. 저희 에스엠플래닛에서는 시각장애...</td>\n",
       "    </tr>\n",
       "    <tr>\n",
       "      <th>403</th>\n",
       "      <td>2023/4/26/15:05</td>\n",
       "      <td>[시각장애인 각막이식 수술지원] - 청주시 시각장애인의 희망의 빛을 되찾길 바라며</td>\n",
       "      <td>청주시 시각장애인에게 각막이식 수술을 지원하기 위해 충북대학교병원, 상당라이온스클...</td>\n",
       "    </tr>\n",
       "    <tr>\n",
       "      <th>404</th>\n",
       "      <td>2010/11/15/9:40</td>\n",
       "      <td>굿 디자인_시각장애인을 위한 도우미식판 제품디자인</td>\n",
       "      <td></td>\n",
       "    </tr>\n",
       "    <tr>\n",
       "      <th>405</th>\n",
       "      <td>2023/3/21/10:41</td>\n",
       "      <td>귀로 듣는 쇼핑 할 수 있을까? 시각장애인을 위한 쇼핑 플랫폼 '소리마켓'</td>\n",
       "      <td>오늘은 시각장애인을 위한 쇼핑 플랫폼 '소리마켓'을 소개하려고 해요. 시각장애인이...</td>\n",
       "    </tr>\n",
       "    <tr>\n",
       "      <th>406</th>\n",
       "      <td>2023/3/10/17:47</td>\n",
       "      <td>세계교육문화원, 한국시각장애인연합회에 점자 여성용품 후원</td>\n",
       "      <td>국제구호 비영리 단체인 세계교육문화원(원장 방정환)은 지난 8일 한국시각장애인연합...</td>\n",
       "    </tr>\n",
       "  </tbody>\n",
       "</table>\n",
       "<p>407 rows × 3 columns</p>\n",
       "</div>"
      ],
      "text/plain": [
       "              포스팅 날짜                                            글 제목  \\\n",
       "0             23시간 전                     서로를 알아가는 법 (ft. 시각장애인 에티켓)    \n",
       "1              6시간 전                  한 치 앞 안 보인 학교, 시각 장애인 총장이 정상화    \n",
       "2    2023/3/15/16:22                               시각장애인 대면 낭독봉사 후기    \n",
       "3    2023/3/27/23:05                        안마바우처 신청 시각장애인 마사지 받아요~    \n",
       "4    2023/5/12/10:10      (강의 리뷰) 11) 울산광역시 시각장애인 주간보호 센터 (배달강좌) 과정    \n",
       "..               ...                                             ...   \n",
       "402   2023/5/18/9:30                           장애인인식개선교육 신청 [시각장애인]    \n",
       "403  2023/4/26/15:05  [시각장애인 각막이식 수술지원] - 청주시 시각장애인의 희망의 빛을 되찾길 바라며    \n",
       "404  2010/11/15/9:40                    굿 디자인_시각장애인을 위한 도우미식판 제품디자인    \n",
       "405  2023/3/21/10:41      귀로 듣는 쇼핑 할 수 있을까? 시각장애인을 위한 쇼핑 플랫폼 '소리마켓'    \n",
       "406  2023/3/10/17:47                세계교육문화원, 한국시각장애인연합회에 점자 여성용품 후원    \n",
       "\n",
       "                                                    본문  \n",
       "0     지난 낭독 동행 여행 사전 미팅 이후, 많은 가르침을 주셨던 김 선생님과 매일 톡...  \n",
       "1     한 치 앞 안 보인 학교, 시각 장애인 총장이 정상화 이재서 총신대 前총장, 임기...  \n",
       "2     vms에서 새롭게 할 수 있는 봉사활동을 찾던 도중 생소한 봉사활동을 발견했다. ...  \n",
       "3     안마바우처로 시각장애인 마사지 받아요저는 안마 받는 걸 너무나 좋아합니다 오늘처럼...  \n",
       "4     #울산남구청#평생교육과#배달강좌#울산시각장애인주간보호센터#건강강좌#천샘의건강교실#...  \n",
       "..                                                 ...  \n",
       "402   WayMakers 말 그대로 길을 만드는 사람들. 저희 에스엠플래닛에서는 시각장애...  \n",
       "403   청주시 시각장애인에게 각막이식 수술을 지원하기 위해 충북대학교병원, 상당라이온스클...  \n",
       "404                                                     \n",
       "405   오늘은 시각장애인을 위한 쇼핑 플랫폼 '소리마켓'을 소개하려고 해요. 시각장애인이...  \n",
       "406   국제구호 비영리 단체인 세계교육문화원(원장 방정환)은 지난 8일 한국시각장애인연합...  \n",
       "\n",
       "[407 rows x 3 columns]"
      ]
     },
     "execution_count": 33,
     "metadata": {},
     "output_type": "execute_result"
    }
   ],
   "source": [
    "df = pd.DataFrame(data= Lists, columns=['포스팅 날짜', '글 제목', '본문'])\n",
    "df"
   ]
  },
  {
   "cell_type": "code",
   "execution_count": 38,
   "id": "017bb8cc",
   "metadata": {
    "ExecuteTime": {
     "end_time": "2023-06-05T10:10:14.952869Z",
     "start_time": "2023-06-05T10:10:14.835264Z"
    }
   },
   "outputs": [],
   "source": [
    "df.to_excel(f'블로그_{text}.xlsx', index = False)"
   ]
  }
 ],
 "metadata": {
  "kernelspec": {
   "display_name": "Python 3 (ipykernel)",
   "language": "python",
   "name": "python3"
  },
  "language_info": {
   "codemirror_mode": {
    "name": "ipython",
    "version": 3
   },
   "file_extension": ".py",
   "mimetype": "text/x-python",
   "name": "python",
   "nbconvert_exporter": "python",
   "pygments_lexer": "ipython3",
   "version": "3.8.16"
  },
  "toc": {
   "base_numbering": 1,
   "nav_menu": {},
   "number_sections": true,
   "sideBar": true,
   "skip_h1_title": false,
   "title_cell": "Table of Contents",
   "title_sidebar": "Contents",
   "toc_cell": false,
   "toc_position": {},
   "toc_section_display": true,
   "toc_window_display": true
  }
 },
 "nbformat": 4,
 "nbformat_minor": 5
}
