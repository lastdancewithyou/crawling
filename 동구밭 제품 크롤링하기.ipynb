{
 "cells": [
  {
   "cell_type": "code",
   "execution_count": 64,
   "id": "a3b55e0e",
   "metadata": {},
   "outputs": [
    {
     "name": "stdout",
     "output_type": "stream",
     "text": [
      "리뷰 수집을 위해 원하시는 페이지 넘버를 입력하세요 : 854\n",
      "수집한 리뷰 개수 :  8533\n"
     ]
    },
    {
     "data": {
      "text/html": [
       "<div>\n",
       "<style scoped>\n",
       "    .dataframe tbody tr th:only-of-type {\n",
       "        vertical-align: middle;\n",
       "    }\n",
       "\n",
       "    .dataframe tbody tr th {\n",
       "        vertical-align: top;\n",
       "    }\n",
       "\n",
       "    .dataframe thead th {\n",
       "        text-align: right;\n",
       "    }\n",
       "</style>\n",
       "<table border=\"1\" class=\"dataframe\">\n",
       "  <thead>\n",
       "    <tr style=\"text-align: right;\">\n",
       "      <th></th>\n",
       "      <th>고객 리뷰</th>\n",
       "    </tr>\n",
       "  </thead>\n",
       "  <tbody>\n",
       "    <tr>\n",
       "      <th>8528</th>\n",
       "      <td>고정시키기 간편해요 금방 건조시킬 수 있어서 좋아요</td>\n",
       "    </tr>\n",
       "    <tr>\n",
       "      <th>8529</th>\n",
       "      <td>거품도 풍부하고 더 사서 쟁여 놓을려고요</td>\n",
       "    </tr>\n",
       "    <tr>\n",
       "      <th>8530</th>\n",
       "      <td>배송도 빠르고 너무 이뻐요</td>\n",
       "    </tr>\n",
       "    <tr>\n",
       "      <th>8531</th>\n",
       "      <td>배송도 빠르고 사용해보니 거픔도 풍부하고 좋아요</td>\n",
       "    </tr>\n",
       "    <tr>\n",
       "      <th>8532</th>\n",
       "      <td>우선 환경까지 생각한 포장이 너무 많이 들어요 반씩 쪼...</td>\n",
       "    </tr>\n",
       "  </tbody>\n",
       "</table>\n",
       "</div>"
      ],
      "text/plain": [
       "                                  고객 리뷰\n",
       "8528       고정시키기 간편해요 금방 건조시킬 수 있어서 좋아요\n",
       "8529             거품도 풍부하고 더 사서 쟁여 놓을려고요\n",
       "8530                     배송도 빠르고 너무 이뻐요\n",
       "8531         배송도 빠르고 사용해보니 거픔도 풍부하고 좋아요\n",
       "8532  우선 환경까지 생각한 포장이 너무 많이 들어요 반씩 쪼..."
      ]
     },
     "execution_count": 64,
     "metadata": {},
     "output_type": "execute_result"
    }
   ],
   "source": [
    "from selenium import webdriver\n",
    "from selenium.webdriver.common.by import By\n",
    "from selenium.webdriver.common.keys import Keys\n",
    "from selenium.webdriver.chrome.options import Options\n",
    "import pandas as pd\n",
    "import time\n",
    "\n",
    "# 브라우저 꺼짐 방지\n",
    "chrome_options = Options()\n",
    "chrome_options.add_experimental_option(\"detach\", True)\n",
    "\n",
    "# 불필요한 에러 메시지 없애기\n",
    "chrome_options.add_experimental_option(\"excludeSwitches\", [\"enable-logging\"])\n",
    "\n",
    "# 브라우저 생성\n",
    "browser = webdriver.Chrome(options=chrome_options)\n",
    "\n",
    "# 웹 사이트 열기\n",
    "browser.get('https://donggubat.co.kr/board/list.php?page=1&bdId=goodsreview')\n",
    "\n",
    "# 화면 최대화 해야지 검색창이 보임\n",
    "browser.maximize_window()\n",
    "\n",
    "# 크롤링 시작\n",
    "review_list = []\n",
    "\n",
    "input_num = int(input('리뷰 수집을 위해 원하시는 페이지 넘버를 입력하세요 : ')) + 1\n",
    "\n",
    "for page_number in range(1, input_num):\n",
    "    \n",
    "    url = 'https://donggubat.co.kr/board/list.php?page=' + str(page_number) + '&bdId=goodsreview'\n",
    "\n",
    "    browser.get(url)\n",
    "    class_name = \"board_tit\"\n",
    "    elements = browser.find_elements(By.CLASS_NAME, class_name)\n",
    "\n",
    "    for index, element in enumerate(elements):\n",
    "        text = element.text\n",
    "        review_list.append(text)\n",
    "\n",
    "    time.sleep(0.5)\n",
    "\n",
    "reviews = pd.DataFrame(review_list, columns = ['고객 리뷰'])\n",
    "print('수집한 리뷰 개수 : ', len(review_list))\n",
    "reviews.tail()\n",
    "\n",
    "browser.close()"
   ]
  },
  {
   "cell_type": "code",
   "execution_count": 69,
   "id": "e05b05e8",
   "metadata": {},
   "outputs": [],
   "source": [
    "reviews.to_excel('/Users/hoengbird/Gangmin Jeong/BOAZ/ADV 프로젝트/동구밭 리뷰 수집.xlsx')"
   ]
  }
 ],
 "metadata": {
  "kernelspec": {
   "display_name": "Python 3 (ipykernel)",
   "language": "python",
   "name": "python3"
  },
  "language_info": {
   "codemirror_mode": {
    "name": "ipython",
    "version": 3
   },
   "file_extension": ".py",
   "mimetype": "text/x-python",
   "name": "python",
   "nbconvert_exporter": "python",
   "pygments_lexer": "ipython3",
   "version": "3.8.17"
  }
 },
 "nbformat": 4,
 "nbformat_minor": 5
}
